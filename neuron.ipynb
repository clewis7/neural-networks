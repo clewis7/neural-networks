{
 "cells": [
  {
   "cell_type": "code",
   "execution_count": 1,
   "id": "cf94bc7c-2627-4cbc-a49d-f836fd83444d",
   "metadata": {},
   "outputs": [],
   "source": [
    "import numpy as np"
   ]
  },
  {
   "cell_type": "code",
   "execution_count": 8,
   "id": "ee472102-66e7-4c54-a5fa-dd567110e288",
   "metadata": {},
   "outputs": [],
   "source": [
    "inputs = [1,2,3]\n",
    "weights = [0.2, 0.8, -0.5]\n",
    "bias = 2"
   ]
  },
  {
   "cell_type": "code",
   "execution_count": 9,
   "id": "c5b90450-7d0d-4eb9-afed-e9f217ce817b",
   "metadata": {},
   "outputs": [],
   "source": [
    "output = 0\n",
    "for i in range(len(inputs)):\n",
    "    output += (inputs[i] * weights[i])\n",
    "output += bias  "
   ]
  },
  {
   "cell_type": "code",
   "execution_count": 10,
   "id": "d25adfdc-78c2-406e-9c3d-3114b115484d",
   "metadata": {},
   "outputs": [
    {
     "data": {
      "text/plain": [
       "2.3"
      ]
     },
     "execution_count": 10,
     "metadata": {},
     "output_type": "execute_result"
    }
   ],
   "source": [
    "output"
   ]
  },
  {
   "cell_type": "code",
   "execution_count": 11,
   "id": "472e446e-d6bf-4b84-a7ae-f752ccc9212c",
   "metadata": {},
   "outputs": [],
   "source": [
    "output =\\\n",
    "    sum([i * w for i, w in zip(inputs, weights)]) + bias"
   ]
  },
  {
   "cell_type": "code",
   "execution_count": 12,
   "id": "c5504f2b-1c45-4c12-b728-877b605b1120",
   "metadata": {},
   "outputs": [
    {
     "data": {
      "text/plain": [
       "2.3"
      ]
     },
     "execution_count": 12,
     "metadata": {},
     "output_type": "execute_result"
    }
   ],
   "source": [
    "output"
   ]
  },
  {
   "cell_type": "code",
   "execution_count": 13,
   "id": "e5d3202e-668a-453d-bbfc-f6e8e13c58a1",
   "metadata": {},
   "outputs": [
    {
     "data": {
      "text/plain": [
       "2.3"
      ]
     },
     "execution_count": 13,
     "metadata": {},
     "output_type": "execute_result"
    }
   ],
   "source": [
    "output = np.dot(inputs, weights) + bias\n",
    "output"
   ]
  },
  {
   "cell_type": "code",
   "execution_count": 16,
   "id": "2dcfa175-2be6-4d2d-bf75-062601a4285d",
   "metadata": {},
   "outputs": [],
   "source": [
    "inputs = [2.3, 4.5]\n",
    "weights = [[0.5, 0.4], [0.3, -.4], [0.7, 0.1]]\n",
    "bias = [3, 5, 2]\n",
    "layer1_output = list()\n",
    "for i in range(len(weights)):\n",
    "    layer1_output.append(\n",
    "        sum(n * w for n, w in zip(inputs, weights[i])) + bias[i]\n",
    ")"
   ]
  },
  {
   "cell_type": "code",
   "execution_count": 17,
   "id": "2722bb01-9d01-4240-95eb-922ff4135324",
   "metadata": {},
   "outputs": [
    {
     "data": {
      "text/plain": [
       "[5.95, 3.8899999999999997, 4.0600000000000005]"
      ]
     },
     "execution_count": 17,
     "metadata": {},
     "output_type": "execute_result"
    }
   ],
   "source": [
    "layer1_output"
   ]
  },
  {
   "cell_type": "code",
   "execution_count": 18,
   "id": "e7024172-2361-4b24-8ecc-5b5824ae851d",
   "metadata": {},
   "outputs": [
    {
     "data": {
      "text/plain": [
       "[5.95, 3.8899999999999997, 4.0600000000000005]"
      ]
     },
     "execution_count": 18,
     "metadata": {},
     "output_type": "execute_result"
    }
   ],
   "source": [
    "[sum(i * w for i, w in zip(inputs, weights[_i])) + bias[_i] for _i in range(len(weights))]"
   ]
  },
  {
   "cell_type": "code",
   "execution_count": 19,
   "id": "ca3ae21b-3693-4e7b-b389-89fe4fe49337",
   "metadata": {},
   "outputs": [
    {
     "data": {
      "text/plain": [
       "[5.95, 3.8899999999999997, 4.0600000000000005]"
      ]
     },
     "execution_count": 19,
     "metadata": {},
     "output_type": "execute_result"
    }
   ],
   "source": [
    "[np.dot(inputs, weights[_i]) + bias[_i] for _i in range(len(weights))]"
   ]
  },
  {
   "cell_type": "code",
   "execution_count": 57,
   "id": "554a6b05-d54b-4d40-8b12-50ae6d5cc9c2",
   "metadata": {},
   "outputs": [],
   "source": [
    "class Layer:\n",
    "    def __init__(\n",
    "        self,\n",
    "        weights,\n",
    "        biases\n",
    "    ):\n",
    "        self.weights = weights\n",
    "        self.biases = biases\n",
    "    \n",
    "    def get_output(self, inputs):\n",
    "        return\\\n",
    "            [np.dot(inputs, self.weights[_i]) + self.biases[_i] for _i in range(len(self.weights))]"
   ]
  },
  {
   "cell_type": "code",
   "execution_count": 58,
   "id": "23e65683-3460-4f58-9e84-68006bd506e7",
   "metadata": {},
   "outputs": [],
   "source": [
    "layer = Layer(weights, bias)"
   ]
  },
  {
   "cell_type": "code",
   "execution_count": 59,
   "id": "2c1e228b-93c9-4d58-b04c-67c39fe089d2",
   "metadata": {},
   "outputs": [
    {
     "data": {
      "text/plain": [
       "[5.95, 3.8899999999999997, 4.0600000000000005]"
      ]
     },
     "execution_count": 59,
     "metadata": {},
     "output_type": "execute_result"
    }
   ],
   "source": [
    "layer.get_output(inputs)"
   ]
  },
  {
   "cell_type": "code",
   "execution_count": null,
   "id": "28fade7d-c24b-4058-a926-ecc8b682fda7",
   "metadata": {},
   "outputs": [],
   "source": [
    "layer2 = Layer(weights2, bias2)\n",
    "layer2.get_output(layer.get_output())"
   ]
  },
  {
   "cell_type": "code",
   "execution_count": null,
   "id": "e9d23e91-5c5e-4491-b0a3-ab1fe3ec83ce",
   "metadata": {},
   "outputs": [],
   "source": [
    "w = [[1, 1], [1, 1], [0, 0], [2, 2]]"
   ]
  },
  {
   "cell_type": "code",
   "execution_count": 48,
   "id": "d1e3495c-65e2-4b06-a599-554766e52b34",
   "metadata": {},
   "outputs": [
    {
     "data": {
      "text/plain": [
       "array([[0.43378141, 0.12938755],\n",
       "       [0.05707973, 0.82952146],\n",
       "       [0.03188621, 0.27521978]])"
      ]
     },
     "execution_count": 48,
     "metadata": {},
     "output_type": "execute_result"
    }
   ],
   "source": [
    "weights = (np.random.rand(n_neurons, n_inputs) * 10) - 5\n",
    "biases = (np.random.rand(n_neurons) * 10) - 5"
   ]
  },
  {
   "cell_type": "code",
   "execution_count": 60,
   "id": "7fbd3b75-ff88-4e68-9c6c-0bfbff38b79f",
   "metadata": {},
   "outputs": [],
   "source": [
    "def random_layer(n_neurons, n_inputs):\n",
    "    weights = (np.random.rand(n_neurons, n_inputs) * 10) - 5\n",
    "    biases = (np.random.rand(n_neurons) * 10) - 5\n",
    "    return Layer(weights, biases)"
   ]
  },
  {
   "cell_type": "code",
   "execution_count": 62,
   "id": "aa95ad2e-d817-4020-a29a-5f7e689baa47",
   "metadata": {},
   "outputs": [],
   "source": [
    "hidden_layer1 = random_layer(4, 2)\n",
    "output1 = hidden_layer1.get_output([5, 5])"
   ]
  },
  {
   "cell_type": "code",
   "execution_count": 64,
   "id": "2986310d-4f81-4ef8-b242-171cfa862d70",
   "metadata": {},
   "outputs": [],
   "source": [
    "hidden_layer2 = random_layer(4,4)\n",
    "output2 = hidden_layer2.get_output(output1)"
   ]
  },
  {
   "cell_type": "code",
   "execution_count": 65,
   "id": "01c2ee57-cc9f-456c-92cb-454ce9feeb8e",
   "metadata": {},
   "outputs": [
    {
     "data": {
      "text/plain": [
       "[375.7461657195421, 731.6514814831276]"
      ]
     },
     "execution_count": 65,
     "metadata": {},
     "output_type": "execute_result"
    }
   ],
   "source": [
    "output_layer = random_layer(2,4)\n",
    "output_layer.get_output(output2)"
   ]
  },
  {
   "cell_type": "markdown",
   "id": "d614a884-88f8-446b-a546-e3030e8b9b8d",
   "metadata": {},
   "source": [
    "10 hidden layers with 128 neurons each\\\n",
    "output layer with 10 neurons"
   ]
  },
  {
   "cell_type": "code",
   "execution_count": 95,
   "id": "0f6e7e57-8906-4f06-b04e-14713f185fe3",
   "metadata": {},
   "outputs": [],
   "source": [
    "# pass output of previous as input to next layer\n",
    "def calculate_network(input_data, hidden_layer1, hidden_layers, output_layer):\n",
    "    # pass input to first hidden layer\n",
    "    previous_output = hidden_layer1.get_output(input_data)\n",
    "    for hl in hidden_layers:\n",
    "        previous_output = hl.get_output(previous_output)\n",
    "    final_output = output_layer.get_output(previous_output)\n",
    "    return final_output\n",
    "    # pass first hidden layer to next\n",
    "    # ...\n",
    "    # pass last hidden layer to output_layer\n",
    "    # return"
   ]
  },
  {
   "cell_type": "code",
   "execution_count": 96,
   "id": "79545ef9-6349-4d07-bff0-553e77bfbce1",
   "metadata": {},
   "outputs": [],
   "source": [
    "input_layer = [5, 5]\n",
    "hidden_layers = [random_layer(128, 2)]\n",
    "for i in range(9):\n",
    "    hidden_layers.append(random_layer(128, 128))\n",
    "output_layer = random_layer(2, 128)"
   ]
  },
  {
   "cell_type": "code",
   "execution_count": 97,
   "id": "e2499083-45d5-40b0-9f6b-6f757331ffee",
   "metadata": {},
   "outputs": [
    {
     "data": {
      "text/plain": [
       "[-1.7394393280928236e+16, 1.4535310047838338e+16]"
      ]
     },
     "execution_count": 97,
     "metadata": {},
     "output_type": "execute_result"
    }
   ],
   "source": [
    "output = calculate_network(input_layer, hidden_layers[0], hidden_layers[1:], output_layer)\n",
    "output"
   ]
  },
  {
   "cell_type": "code",
   "execution_count": null,
   "id": "e534d1af-f798-49cc-8c03-39a20b86dba5",
   "metadata": {},
   "outputs": [],
   "source": []
  }
 ],
 "metadata": {
  "kernelspec": {
   "display_name": "Python 3 (ipykernel)",
   "language": "python",
   "name": "python3"
  },
  "language_info": {
   "codemirror_mode": {
    "name": "ipython",
    "version": 3
   },
   "file_extension": ".py",
   "mimetype": "text/x-python",
   "name": "python",
   "nbconvert_exporter": "python",
   "pygments_lexer": "ipython3",
   "version": "3.10.5"
  }
 },
 "nbformat": 4,
 "nbformat_minor": 5
}
